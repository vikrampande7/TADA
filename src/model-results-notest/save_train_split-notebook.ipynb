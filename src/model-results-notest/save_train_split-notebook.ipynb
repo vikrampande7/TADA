{
 "cells": [
  {
   "cell_type": "code",
   "execution_count": 1,
   "id": "ad495569-7d5d-4d24-a2ea-38188cf13be5",
   "metadata": {},
   "outputs": [
    {
     "name": "stderr",
     "output_type": "stream",
     "text": [
      "/home/awaoo/anaconda3/envs/tada/lib/python3.10/site-packages/scipy/__init__.py:146: UserWarning: A NumPy version >=1.17.3 and <1.25.0 is required for this version of SciPy (detected version 1.26.1\n",
      "  warnings.warn(f\"A NumPy version >={np_minversion} and <{np_maxversion}\"\n"
     ]
    },
    {
     "name": "stdout",
     "output_type": "stream",
     "text": [
      "Loading data\n",
      "(36, 42)\n",
      "Saving train-validation-test sequences and labels\n"
     ]
    }
   ],
   "source": [
    "# -*- coding: utf-8 -*-\n",
    "\"\"\"\n",
    "Created on Mon Apr 10 13:32:23 2023\n",
    "\n",
    "@author: lisav\n",
    "\"\"\"\n",
    "\n",
    "import csv\n",
    "import numpy as np\n",
    "from pickle import dump, load\n",
    "import os\n",
    "from sklearn.model_selection import train_test_split\n",
    "\n",
    "from Preprocessing import scale_features\n",
    "from Preprocessing import create_features\n",
    "\n",
    "np.random.seed(1258)  # for reproducibility\n",
    "save_file_path = '../data/split-train-val/'\n",
    "if not os.path.exists(save_file_path):\n",
    "     os.mkdir(save_file_path)\n",
    "\n",
    "'''\n",
    "Data contains four distinct datasets\n",
    "\n",
    "'''\n",
    "print('Loading data')\n",
    "with open('../data/TrainingsDataV2.csv', 'r') as csv_file:\n",
    "    csv_reader = csv.reader(csv_file)\n",
    "    data = []\n",
    "    for i in csv_reader:\n",
    "        data.append([i[0], i[1], i[2], i[3], i[4]])\n",
    "data.pop(0)\n",
    "\n",
    "sequences = [i[2] for i in data]\n",
    "data = np.array(data)\n",
    "y0 = np.double(data[:, 4])\n",
    "y = np.column_stack([y0, 1 - y0])\n",
    "\n",
    "'''\n",
    "Splitting into train, and validation set\n",
    "\n",
    "'''\n",
    "# Save the features and activation scores\n",
    "features = load(open('../data/features_OnlyPlants.pkl', 'rb'))\n",
    "\n",
    "# Split sequences in training and testing data\n",
    "X_train, X_val, y_train, y_val = train_test_split(features, y, random_state = 42, test_size=0.1, stratify = y)\n",
    "\n",
    "# Scale features\n",
    "X_train_scaled = scale_features(X_train)\n",
    "X_val_scaled = scale_features(X_val)\n",
    "print(X_train_scaled[0].shape)\n",
    "\n",
    "print('Saving train-validation-test sequences and labels')\n",
    "np.savez_compressed(save_file_path + 'train-features-scaled.npz', X_train_scaled)\n",
    "np.savez_compressed(save_file_path + 'train-labels.npz', y_train)\n",
    "\n",
    "np.savez_compressed(save_file_path + 'validation-features-scaled.npz', X_val_scaled)\n",
    "np.savez_compressed(save_file_path + 'validation-labels.npz', y_val)\n"
   ]
  },
  {
   "cell_type": "code",
   "execution_count": null,
   "id": "613e6fda-424a-4aa8-a387-01f367e9d002",
   "metadata": {},
   "outputs": [],
   "source": []
  }
 ],
 "metadata": {
  "kernelspec": {
   "display_name": "Python 3 (ipykernel)",
   "language": "python",
   "name": "python3"
  },
  "language_info": {
   "codemirror_mode": {
    "name": "ipython",
    "version": 3
   },
   "file_extension": ".py",
   "mimetype": "text/x-python",
   "name": "python",
   "nbconvert_exporter": "python",
   "pygments_lexer": "ipython3",
   "version": "3.10.6"
  }
 },
 "nbformat": 4,
 "nbformat_minor": 5
}
